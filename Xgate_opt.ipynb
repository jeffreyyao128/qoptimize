{
 "cells": [
  {
   "cell_type": "code",
   "execution_count": 1,
   "id": "fatal-spare",
   "metadata": {},
   "outputs": [
    {
     "name": "stderr",
     "output_type": "stream",
     "text": [
      "WARNING:absl:No GPU/TPU found, falling back to CPU. (Set TF_CPP_MIN_LOG_LEVEL=0 and rerun for more info.)\n"
     ]
    }
   ],
   "source": [
    "%matplotlib inline\n",
    "import matplotlib\n",
    "from matplotlib import pyplot as plt\n",
    "\n",
    "import jax.numpy as jnp\n",
    "import jax.random as random\n",
    "import jax\n",
    "from jax import jit,vmap,grad\n",
    "key = random.PRNGKey(42)\n",
    "\n",
    "N = 1  # single qubit\n",
    "N1 = 10  # parameter space size\n",
    "\n",
    "sz = jnp.array([[1, 0], [0, -1]], dtype=jnp.float32)\n",
    "\n",
    "sx = jnp.array([[0, 1], [1, 0]], dtype=jnp.float32)"
   ]
  },
  {
   "cell_type": "markdown",
   "id": "superior-click",
   "metadata": {},
   "source": [
    "Now that we have the ideal result under master frequency $\\omega$. With a change of frequency $\\delta \\omega$, the hyperparameter will change accordingly $\\delta \\vec{p}$\n",
    "\n",
    "The first method is to use *Hessian* matrix to get a minimal hyperparameter set and do the black box optimization."
   ]
  },
  {
   "cell_type": "code",
   "execution_count": 2,
   "id": "southeast-fashion",
   "metadata": {},
   "outputs": [
    {
     "name": "stdout",
     "output_type": "stream",
     "text": [
      "final loss =  0.0160533914173018670186757\n"
     ]
    },
    {
     "ename": "RuntimeError",
     "evalue": "Invalid argument: Cannot bitcast types with different bit-widths: F64 => S32.\n\t, for instruction %bitcast-convert.10 = s32[] bitcast-convert(f64[] %real.9), metadata={op_type=\"bitcast_convert_type\" op_name=\"bitcast_convert_type[ new_dtype=int64 ]\" source_file=\"/Users/jeffreyyao/Documents/GitHub/qoptimize/Black_box_opt.py\" source_line=40}",
     "output_type": "error",
     "traceback": [
      "\u001b[0;31m---------------------------------------------------------------------------\u001b[0m",
      "\u001b[0;31mRuntimeError\u001b[0m                              Traceback (most recent call last)",
      "\u001b[0;32m<ipython-input-2-94b540581b6f>\u001b[0m in \u001b[0;36m<module>\u001b[0;34m\u001b[0m\n\u001b[1;32m      7\u001b[0m     sx, omega0, t0, p, num_step=300, learning_rate=1.2)\n\u001b[1;32m      8\u001b[0m \u001b[0;34m\u001b[0m\u001b[0m\n\u001b[0;32m----> 9\u001b[0;31m \u001b[0m_\u001b[0m \u001b[0;34m,\u001b[0m\u001b[0mvector_mat\u001b[0m \u001b[0;34m=\u001b[0m \u001b[0mHessian_eigen\u001b[0m\u001b[0;34m(\u001b[0m\u001b[0mp_final\u001b[0m\u001b[0;34m)\u001b[0m\u001b[0;34m\u001b[0m\u001b[0;34m\u001b[0m\u001b[0m\n\u001b[0m\u001b[1;32m     10\u001b[0m \u001b[0;34m\u001b[0m\u001b[0m\n\u001b[1;32m     11\u001b[0m \u001b[0;31m# Now try different optimization method\u001b[0m\u001b[0;34m\u001b[0m\u001b[0;34m\u001b[0m\u001b[0;34m\u001b[0m\u001b[0m\n",
      "\u001b[0;32m~/Documents/GitHub/qoptimize/Black_box_opt.py\u001b[0m in \u001b[0;36mHessian_eigen\u001b[0;34m(p_final, n_size)\u001b[0m\n\u001b[1;32m     38\u001b[0m     \u001b[0mw\u001b[0m\u001b[0;34m,\u001b[0m \u001b[0mv\u001b[0m \u001b[0;34m=\u001b[0m \u001b[0mjnp\u001b[0m\u001b[0;34m.\u001b[0m\u001b[0mlinalg\u001b[0m\u001b[0;34m.\u001b[0m\u001b[0meig\u001b[0m\u001b[0;34m(\u001b[0m\u001b[0mHess\u001b[0m\u001b[0;34m)\u001b[0m\u001b[0;34m\u001b[0m\u001b[0;34m\u001b[0m\u001b[0m\n\u001b[1;32m     39\u001b[0m \u001b[0;34m\u001b[0m\u001b[0m\n\u001b[0;32m---> 40\u001b[0;31m     \u001b[0marglist\u001b[0m \u001b[0;34m=\u001b[0m \u001b[0mjnp\u001b[0m\u001b[0;34m.\u001b[0m\u001b[0margsort\u001b[0m\u001b[0;34m(\u001b[0m\u001b[0mw\u001b[0m\u001b[0;34m)\u001b[0m\u001b[0;34m[\u001b[0m\u001b[0;34m-\u001b[0m\u001b[0mn_size\u001b[0m\u001b[0;34m:\u001b[0m\u001b[0;34m]\u001b[0m\u001b[0;34m\u001b[0m\u001b[0;34m\u001b[0m\u001b[0m\n\u001b[0m\u001b[1;32m     41\u001b[0m     \u001b[0mmain_eigen\u001b[0m \u001b[0;34m=\u001b[0m \u001b[0mw\u001b[0m\u001b[0;34m[\u001b[0m\u001b[0marglist\u001b[0m\u001b[0;34m]\u001b[0m\u001b[0;34m\u001b[0m\u001b[0;34m\u001b[0m\u001b[0m\n\u001b[1;32m     42\u001b[0m     \u001b[0mmain_vec\u001b[0m \u001b[0;34m=\u001b[0m \u001b[0mv\u001b[0m\u001b[0;34m[\u001b[0m\u001b[0;34m:\u001b[0m\u001b[0;34m,\u001b[0m \u001b[0marglist\u001b[0m\u001b[0;34m]\u001b[0m\u001b[0;34m\u001b[0m\u001b[0;34m\u001b[0m\u001b[0m\n",
      "\u001b[0;32m~/miniconda3/lib/python3.7/site-packages/jax/_src/numpy/lax_numpy.py\u001b[0m in \u001b[0;36margsort\u001b[0;34m(a, axis, kind, order)\u001b[0m\n\u001b[1;32m   3679\u001b[0m     \u001b[0maxis\u001b[0m \u001b[0;34m=\u001b[0m \u001b[0m_canonicalize_axis\u001b[0m\u001b[0;34m(\u001b[0m\u001b[0maxis\u001b[0m\u001b[0;34m,\u001b[0m \u001b[0mndim\u001b[0m\u001b[0;34m(\u001b[0m\u001b[0ma\u001b[0m\u001b[0;34m)\u001b[0m\u001b[0;34m)\u001b[0m\u001b[0;34m\u001b[0m\u001b[0;34m\u001b[0m\u001b[0m\n\u001b[1;32m   3680\u001b[0m     \u001b[0miota\u001b[0m \u001b[0;34m=\u001b[0m \u001b[0mlax\u001b[0m\u001b[0;34m.\u001b[0m\u001b[0mbroadcasted_iota\u001b[0m\u001b[0;34m(\u001b[0m\u001b[0mnp\u001b[0m\u001b[0;34m.\u001b[0m\u001b[0mint64\u001b[0m\u001b[0;34m,\u001b[0m \u001b[0mshape\u001b[0m\u001b[0;34m(\u001b[0m\u001b[0ma\u001b[0m\u001b[0;34m)\u001b[0m\u001b[0;34m,\u001b[0m \u001b[0maxis\u001b[0m\u001b[0;34m)\u001b[0m\u001b[0;34m\u001b[0m\u001b[0;34m\u001b[0m\u001b[0m\n\u001b[0;32m-> 3681\u001b[0;31m     \u001b[0m_\u001b[0m\u001b[0;34m,\u001b[0m \u001b[0mperm\u001b[0m \u001b[0;34m=\u001b[0m \u001b[0mlax\u001b[0m\u001b[0;34m.\u001b[0m\u001b[0msort_key_val\u001b[0m\u001b[0;34m(\u001b[0m\u001b[0ma\u001b[0m\u001b[0;34m,\u001b[0m \u001b[0miota\u001b[0m\u001b[0;34m,\u001b[0m \u001b[0mdimension\u001b[0m\u001b[0;34m=\u001b[0m\u001b[0maxis\u001b[0m\u001b[0;34m)\u001b[0m\u001b[0;34m\u001b[0m\u001b[0;34m\u001b[0m\u001b[0m\n\u001b[0m\u001b[1;32m   3682\u001b[0m     \u001b[0;32mreturn\u001b[0m \u001b[0mperm\u001b[0m\u001b[0;34m\u001b[0m\u001b[0;34m\u001b[0m\u001b[0m\n\u001b[1;32m   3683\u001b[0m \u001b[0;34m\u001b[0m\u001b[0m\n",
      "\u001b[0;32m~/miniconda3/lib/python3.7/site-packages/jax/_src/lax/lax.py\u001b[0m in \u001b[0;36msort_key_val\u001b[0;34m(keys, values, dimension, is_stable)\u001b[0m\n\u001b[1;32m   1401\u001b[0m   \u001b[0;34m\"\"\"Sorts ``keys`` along ``dimension`` and applies same permutation to ``values``.\"\"\"\u001b[0m\u001b[0;34m\u001b[0m\u001b[0;34m\u001b[0m\u001b[0m\n\u001b[1;32m   1402\u001b[0m   \u001b[0mdimension\u001b[0m \u001b[0;34m=\u001b[0m \u001b[0mcanonicalize_axis\u001b[0m\u001b[0;34m(\u001b[0m\u001b[0mdimension\u001b[0m\u001b[0;34m,\u001b[0m \u001b[0mlen\u001b[0m\u001b[0;34m(\u001b[0m\u001b[0mkeys\u001b[0m\u001b[0;34m.\u001b[0m\u001b[0mshape\u001b[0m\u001b[0;34m)\u001b[0m\u001b[0;34m)\u001b[0m\u001b[0;34m\u001b[0m\u001b[0;34m\u001b[0m\u001b[0m\n\u001b[0;32m-> 1403\u001b[0;31m   \u001b[0mk\u001b[0m\u001b[0;34m,\u001b[0m \u001b[0mv\u001b[0m \u001b[0;34m=\u001b[0m \u001b[0msort_p\u001b[0m\u001b[0;34m.\u001b[0m\u001b[0mbind\u001b[0m\u001b[0;34m(\u001b[0m\u001b[0mkeys\u001b[0m\u001b[0;34m,\u001b[0m \u001b[0mvalues\u001b[0m\u001b[0;34m,\u001b[0m \u001b[0mdimension\u001b[0m\u001b[0;34m=\u001b[0m\u001b[0mdimension\u001b[0m\u001b[0;34m,\u001b[0m \u001b[0mis_stable\u001b[0m\u001b[0;34m=\u001b[0m\u001b[0mis_stable\u001b[0m\u001b[0;34m,\u001b[0m \u001b[0mnum_keys\u001b[0m\u001b[0;34m=\u001b[0m\u001b[0;36m1\u001b[0m\u001b[0;34m)\u001b[0m\u001b[0;34m\u001b[0m\u001b[0;34m\u001b[0m\u001b[0m\n\u001b[0m\u001b[1;32m   1404\u001b[0m   \u001b[0;32mreturn\u001b[0m \u001b[0mk\u001b[0m\u001b[0;34m,\u001b[0m \u001b[0mv\u001b[0m\u001b[0;34m\u001b[0m\u001b[0;34m\u001b[0m\u001b[0m\n\u001b[1;32m   1405\u001b[0m \u001b[0;34m\u001b[0m\u001b[0m\n",
      "\u001b[0;32m~/miniconda3/lib/python3.7/site-packages/jax/core.py\u001b[0m in \u001b[0;36mbind\u001b[0;34m(self, *args, **params)\u001b[0m\n\u001b[1;32m    268\u001b[0m     \u001b[0mtop_trace\u001b[0m \u001b[0;34m=\u001b[0m \u001b[0mfind_top_trace\u001b[0m\u001b[0;34m(\u001b[0m\u001b[0margs\u001b[0m\u001b[0;34m)\u001b[0m\u001b[0;34m\u001b[0m\u001b[0;34m\u001b[0m\u001b[0m\n\u001b[1;32m    269\u001b[0m     \u001b[0mtracers\u001b[0m \u001b[0;34m=\u001b[0m \u001b[0mmap\u001b[0m\u001b[0;34m(\u001b[0m\u001b[0mtop_trace\u001b[0m\u001b[0;34m.\u001b[0m\u001b[0mfull_raise\u001b[0m\u001b[0;34m,\u001b[0m \u001b[0margs\u001b[0m\u001b[0;34m)\u001b[0m\u001b[0;34m\u001b[0m\u001b[0;34m\u001b[0m\u001b[0m\n\u001b[0;32m--> 270\u001b[0;31m     \u001b[0mout\u001b[0m \u001b[0;34m=\u001b[0m \u001b[0mtop_trace\u001b[0m\u001b[0;34m.\u001b[0m\u001b[0mprocess_primitive\u001b[0m\u001b[0;34m(\u001b[0m\u001b[0mself\u001b[0m\u001b[0;34m,\u001b[0m \u001b[0mtracers\u001b[0m\u001b[0;34m,\u001b[0m \u001b[0mparams\u001b[0m\u001b[0;34m)\u001b[0m\u001b[0;34m\u001b[0m\u001b[0;34m\u001b[0m\u001b[0m\n\u001b[0m\u001b[1;32m    271\u001b[0m     \u001b[0;32mreturn\u001b[0m \u001b[0mmap\u001b[0m\u001b[0;34m(\u001b[0m\u001b[0mfull_lower\u001b[0m\u001b[0;34m,\u001b[0m \u001b[0mout\u001b[0m\u001b[0;34m)\u001b[0m \u001b[0;32mif\u001b[0m \u001b[0mself\u001b[0m\u001b[0;34m.\u001b[0m\u001b[0mmultiple_results\u001b[0m \u001b[0;32melse\u001b[0m \u001b[0mfull_lower\u001b[0m\u001b[0;34m(\u001b[0m\u001b[0mout\u001b[0m\u001b[0;34m)\u001b[0m\u001b[0;34m\u001b[0m\u001b[0;34m\u001b[0m\u001b[0m\n\u001b[1;32m    272\u001b[0m \u001b[0;34m\u001b[0m\u001b[0m\n",
      "\u001b[0;32m~/miniconda3/lib/python3.7/site-packages/jax/core.py\u001b[0m in \u001b[0;36mprocess_primitive\u001b[0;34m(self, primitive, tracers, params)\u001b[0m\n\u001b[1;32m    578\u001b[0m \u001b[0;34m\u001b[0m\u001b[0m\n\u001b[1;32m    579\u001b[0m   \u001b[0;32mdef\u001b[0m \u001b[0mprocess_primitive\u001b[0m\u001b[0;34m(\u001b[0m\u001b[0mself\u001b[0m\u001b[0;34m,\u001b[0m \u001b[0mprimitive\u001b[0m\u001b[0;34m,\u001b[0m \u001b[0mtracers\u001b[0m\u001b[0;34m,\u001b[0m \u001b[0mparams\u001b[0m\u001b[0;34m)\u001b[0m\u001b[0;34m:\u001b[0m\u001b[0;34m\u001b[0m\u001b[0;34m\u001b[0m\u001b[0m\n\u001b[0;32m--> 580\u001b[0;31m     \u001b[0;32mreturn\u001b[0m \u001b[0mprimitive\u001b[0m\u001b[0;34m.\u001b[0m\u001b[0mimpl\u001b[0m\u001b[0;34m(\u001b[0m\u001b[0;34m*\u001b[0m\u001b[0mtracers\u001b[0m\u001b[0;34m,\u001b[0m \u001b[0;34m**\u001b[0m\u001b[0mparams\u001b[0m\u001b[0;34m)\u001b[0m\u001b[0;34m\u001b[0m\u001b[0;34m\u001b[0m\u001b[0m\n\u001b[0m\u001b[1;32m    581\u001b[0m \u001b[0;34m\u001b[0m\u001b[0m\n\u001b[1;32m    582\u001b[0m   \u001b[0;32mdef\u001b[0m \u001b[0mprocess_call\u001b[0m\u001b[0;34m(\u001b[0m\u001b[0mself\u001b[0m\u001b[0;34m,\u001b[0m \u001b[0mprimitive\u001b[0m\u001b[0;34m,\u001b[0m \u001b[0mf\u001b[0m\u001b[0;34m,\u001b[0m \u001b[0mtracers\u001b[0m\u001b[0;34m,\u001b[0m \u001b[0mparams\u001b[0m\u001b[0;34m)\u001b[0m\u001b[0;34m:\u001b[0m\u001b[0;34m\u001b[0m\u001b[0;34m\u001b[0m\u001b[0m\n",
      "\u001b[0;32m~/miniconda3/lib/python3.7/site-packages/jax/interpreters/xla.py\u001b[0m in \u001b[0;36mapply_primitive\u001b[0;34m(prim, *args, **params)\u001b[0m\n\u001b[1;32m    233\u001b[0m \u001b[0;32mdef\u001b[0m \u001b[0mapply_primitive\u001b[0m\u001b[0;34m(\u001b[0m\u001b[0mprim\u001b[0m\u001b[0;34m,\u001b[0m \u001b[0;34m*\u001b[0m\u001b[0margs\u001b[0m\u001b[0;34m,\u001b[0m \u001b[0;34m**\u001b[0m\u001b[0mparams\u001b[0m\u001b[0;34m)\u001b[0m\u001b[0;34m:\u001b[0m\u001b[0;34m\u001b[0m\u001b[0;34m\u001b[0m\u001b[0m\n\u001b[1;32m    234\u001b[0m   \u001b[0;34m\"\"\"Impl rule that compiles and runs a single primitive 'prim' using XLA.\"\"\"\u001b[0m\u001b[0;34m\u001b[0m\u001b[0;34m\u001b[0m\u001b[0m\n\u001b[0;32m--> 235\u001b[0;31m   \u001b[0mcompiled_fun\u001b[0m \u001b[0;34m=\u001b[0m \u001b[0mxla_primitive_callable\u001b[0m\u001b[0;34m(\u001b[0m\u001b[0mprim\u001b[0m\u001b[0;34m,\u001b[0m \u001b[0;34m*\u001b[0m\u001b[0munsafe_map\u001b[0m\u001b[0;34m(\u001b[0m\u001b[0marg_spec\u001b[0m\u001b[0;34m,\u001b[0m \u001b[0margs\u001b[0m\u001b[0;34m)\u001b[0m\u001b[0;34m,\u001b[0m \u001b[0;34m**\u001b[0m\u001b[0mparams\u001b[0m\u001b[0;34m)\u001b[0m\u001b[0;34m\u001b[0m\u001b[0;34m\u001b[0m\u001b[0m\n\u001b[0m\u001b[1;32m    236\u001b[0m   \u001b[0;32mreturn\u001b[0m \u001b[0mcompiled_fun\u001b[0m\u001b[0;34m(\u001b[0m\u001b[0;34m*\u001b[0m\u001b[0margs\u001b[0m\u001b[0;34m)\u001b[0m\u001b[0;34m\u001b[0m\u001b[0;34m\u001b[0m\u001b[0m\n\u001b[1;32m    237\u001b[0m \u001b[0;34m\u001b[0m\u001b[0m\n",
      "\u001b[0;32m~/miniconda3/lib/python3.7/site-packages/jax/interpreters/xla.py\u001b[0m in \u001b[0;36mxla_primitive_callable\u001b[0;34m(prim, *arg_specs, **params)\u001b[0m\n\u001b[1;32m    283\u001b[0m       device_assignment=device and (device.id,))\n\u001b[1;32m    284\u001b[0m   \u001b[0moptions\u001b[0m\u001b[0;34m.\u001b[0m\u001b[0mparameter_is_tupled_arguments\u001b[0m \u001b[0;34m=\u001b[0m \u001b[0mtuple_args\u001b[0m\u001b[0;34m\u001b[0m\u001b[0;34m\u001b[0m\u001b[0m\n\u001b[0;32m--> 285\u001b[0;31m   \u001b[0mcompiled\u001b[0m \u001b[0;34m=\u001b[0m \u001b[0mbackend_compile\u001b[0m\u001b[0;34m(\u001b[0m\u001b[0mbackend\u001b[0m\u001b[0;34m,\u001b[0m \u001b[0mbuilt_c\u001b[0m\u001b[0;34m,\u001b[0m \u001b[0moptions\u001b[0m\u001b[0;34m)\u001b[0m\u001b[0;34m\u001b[0m\u001b[0;34m\u001b[0m\u001b[0m\n\u001b[0m\u001b[1;32m    286\u001b[0m   \u001b[0;32mif\u001b[0m \u001b[0mnreps\u001b[0m \u001b[0;34m==\u001b[0m \u001b[0;36m1\u001b[0m\u001b[0;34m:\u001b[0m\u001b[0;34m\u001b[0m\u001b[0;34m\u001b[0m\u001b[0m\n\u001b[1;32m    287\u001b[0m     \u001b[0;32mreturn\u001b[0m \u001b[0mpartial\u001b[0m\u001b[0;34m(\u001b[0m\u001b[0m_execute_compiled_primitive\u001b[0m\u001b[0;34m,\u001b[0m \u001b[0mprim\u001b[0m\u001b[0;34m,\u001b[0m \u001b[0mcompiled\u001b[0m\u001b[0;34m,\u001b[0m \u001b[0mhandle_result\u001b[0m\u001b[0;34m)\u001b[0m\u001b[0;34m\u001b[0m\u001b[0;34m\u001b[0m\u001b[0m\n",
      "\u001b[0;32m~/miniconda3/lib/python3.7/site-packages/jax/interpreters/xla.py\u001b[0m in \u001b[0;36mbackend_compile\u001b[0;34m(backend, built_c, options)\u001b[0m\n\u001b[1;32m    344\u001b[0m   \u001b[0;31m# we use a separate function call to ensure that XLA compilation appears\u001b[0m\u001b[0;34m\u001b[0m\u001b[0;34m\u001b[0m\u001b[0;34m\u001b[0m\u001b[0m\n\u001b[1;32m    345\u001b[0m   \u001b[0;31m# separately in Python profiling results\u001b[0m\u001b[0;34m\u001b[0m\u001b[0;34m\u001b[0m\u001b[0;34m\u001b[0m\u001b[0m\n\u001b[0;32m--> 346\u001b[0;31m   \u001b[0;32mreturn\u001b[0m \u001b[0mbackend\u001b[0m\u001b[0;34m.\u001b[0m\u001b[0mcompile\u001b[0m\u001b[0;34m(\u001b[0m\u001b[0mbuilt_c\u001b[0m\u001b[0;34m,\u001b[0m \u001b[0mcompile_options\u001b[0m\u001b[0;34m=\u001b[0m\u001b[0moptions\u001b[0m\u001b[0;34m)\u001b[0m\u001b[0;34m\u001b[0m\u001b[0;34m\u001b[0m\u001b[0m\n\u001b[0m\u001b[1;32m    347\u001b[0m \u001b[0;34m\u001b[0m\u001b[0m\n\u001b[1;32m    348\u001b[0m \u001b[0;32mdef\u001b[0m \u001b[0m_execute_compiled_primitive\u001b[0m\u001b[0;34m(\u001b[0m\u001b[0mprim\u001b[0m\u001b[0;34m,\u001b[0m \u001b[0mcompiled\u001b[0m\u001b[0;34m,\u001b[0m \u001b[0mresult_handler\u001b[0m\u001b[0;34m,\u001b[0m \u001b[0;34m*\u001b[0m\u001b[0margs\u001b[0m\u001b[0;34m)\u001b[0m\u001b[0;34m:\u001b[0m\u001b[0;34m\u001b[0m\u001b[0;34m\u001b[0m\u001b[0m\n",
      "\u001b[0;31mRuntimeError\u001b[0m: Invalid argument: Cannot bitcast types with different bit-widths: F64 => S32.\n\t, for instruction %bitcast-convert.10 = s32[] bitcast-convert(f64[] %real.9), metadata={op_type=\"bitcast_convert_type\" op_name=\"bitcast_convert_type[ new_dtype=int64 ]\" source_file=\"/Users/jeffreyyao/Documents/GitHub/qoptimize/Black_box_opt.py\" source_line=40}"
     ]
    }
   ],
   "source": [
    "from Black_box_opt import GateOptimize, Hessian_eigen\n",
    "from scipy.optimize import minimize\n",
    "omega0 = 1.\n",
    "p = random.normal(key, shape=(N1,))\n",
    "t0 = 1.\n",
    "gate_loss, p_final = GateOptimize(\n",
    "    sx, omega0, t0, p, num_step=300, learning_rate=1.2)\n",
    "\n",
    "_ ,vector_mat = Hessian_eigen(p_final)\n",
    "\n",
    "# Now try different optimization method\n",
    "dw = 0.03\n",
    "\n",
    "# print(vector_mat)\n",
    "\n",
    "t1_final = p_final[0]\n",
    "p0_final = p_final[1]\n",
    "\n",
    "\n",
    "print('starting optimize')\n",
    "\n",
    "res_vec = minimize(loss_vec,jnp.zeros(3,dtype=jnp.float32),\n",
    "    args=(vector_mat,t1_final,p0_final,omega0+dw,sx),method='Nelder-Mead',options={'return_all':True})"
   ]
  },
  {
   "cell_type": "code",
   "execution_count": null,
   "id": "specific-plant",
   "metadata": {},
   "outputs": [],
   "source": []
  },
  {
   "cell_type": "markdown",
   "id": "biblical-century",
   "metadata": {},
   "source": [
    "Or even better, we represent $A(\\omega,t)$ as a simple neural network with ReLU activation."
   ]
  },
  {
   "cell_type": "code",
   "execution_count": 53,
   "id": "turkish-mechanism",
   "metadata": {},
   "outputs": [],
   "source": [
    "from jax.nn import relu\n",
    "@jit\n",
    "def A(w,t,p):\n",
    "    '''\n",
    "    Single layer representation of control pulse\n",
    "    '''\n",
    "    \n",
    "    def unpackp(p):\n",
    "        #        w1                      b1              w2                                      b2\n",
    "        return p[0:2*N1].reshape(N1,2), p[2*N1:3*N1].reshape(N1,), p[3*N1:4*N1].reshape(N1,), p[-1]\n",
    "    \n",
    "    w1, b1, w2, b2 = unpackp(p)\n",
    "    \n",
    "    x = jnp.array([w,t])\n",
    "    \n",
    "    return w2.T@(relu(w1@x+b1))+b2"
   ]
  },
  {
   "cell_type": "code",
   "execution_count": 54,
   "id": "simple-roads",
   "metadata": {},
   "outputs": [
    {
     "data": {
      "text/plain": [
       "DeviceArray(-1.47835046, dtype=float64)"
      ]
     },
     "execution_count": 54,
     "metadata": {},
     "output_type": "execute_result"
    }
   ],
   "source": [
    "p0 = random.normal(key,shape=(N1*4+1,))\n",
    "A(omega0,t0,p0)"
   ]
  },
  {
   "cell_type": "markdown",
   "id": "fiscal-pontiac",
   "metadata": {},
   "source": [
    "Try plot to see if it's continuous"
   ]
  },
  {
   "cell_type": "code",
   "execution_count": 71,
   "id": "sized-redhead",
   "metadata": {
    "scrolled": true
   },
   "outputs": [
    {
     "data": {
      "text/plain": [
       "[<matplotlib.lines.Line2D at 0x7fb5796269d0>]"
      ]
     },
     "execution_count": 71,
     "metadata": {},
     "output_type": "execute_result"
    },
    {
     "data": {
      "image/png": "[encoded data removed]",
      "text/plain": [
       "<Figure size 432x288 with 1 Axes>"
      ]
     },
     "metadata": {
      "needs_background": "light"
     },
     "output_type": "display_data"
    }
   ],
   "source": [
    "tlist = jnp.linspace(0,t0,100)\n",
    "Alist = vmap(A,(None,0,None),0)(omega0,tlist,p0)\n",
    "plt.plot(tlist,Alist)"
   ]
  },
  {
   "cell_type": "code",
   "execution_count": 72,
   "id": "respective-complexity",
   "metadata": {},
   "outputs": [],
   "source": [
    "from jax.experimental import ode, optimizers\n",
    "from jax.experimental.ode import odeint\n",
    "\n",
    "@jit\n",
    "def loss(t1,flat_p, omega, U_T):\n",
    "    '''\n",
    "    define the loss function, which is a pure function\n",
    "    '''\n",
    "    t_set = jnp.linspace(0., t1, 5)\n",
    "\n",
    "    D, _, = jnp.shape(U_T)\n",
    "    U_0 = jnp.eye(D,dtype=jnp.complex128)\n",
    "\n",
    "    def func(y, t, *args):\n",
    "        omega, flat_p, = args\n",
    "\n",
    "        return -1.0j*( omega* sz + A(omega,t,flat_p) * sx )@y\n",
    "        # return -1.0j*( omega* sz)@y\n",
    "\n",
    "    res = odeint(func, U_0, t_set, omega, flat_p, rtol=1.4e-10, atol=1.4e-10)\n",
    "    \n",
    "    U_F = res[-1, :,:]\n",
    "    return (1 - jnp.abs(jnp.trace(U_T.conj().T@U_F)/D)**2)\n",
    "\n",
    "lossvmap = jit(vmap(loss,(None,None,0,None),0))"
   ]
  },
  {
   "cell_type": "code",
   "execution_count": 75,
   "id": "understood-cream",
   "metadata": {},
   "outputs": [],
   "source": [
    "def GateOptimizeOmega(U_F, omega, t1, init_param, num_step=300, learning_rate=1.0):\n",
    "    '''\n",
    "    Get the best possible parameter\n",
    "    psi_i: initial wave function\n",
    "    psi_f: final wave function\n",
    "    init_param: initial parameters\n",
    "    '''\n",
    "    opt_init, opt_update, get_params = optimizers.adam(\n",
    "        learning_rate)  # Use adam optimizer\n",
    "    loss_list = []\n",
    "\n",
    "    def unpack(x):\n",
    "                # t , args\n",
    "        return x[0], x[1:]\n",
    "\n",
    "    def step_fun(step, opt_state, U_F):\n",
    "        aug_params = get_params(opt_state)\n",
    "        t1, flat_params = unpack(aug_params)\n",
    "        value, grads = jax.value_and_grad(\n",
    "            loss, (0, 1))(t1, flat_params, omega, U_F) # use jax grad\n",
    "        \n",
    "        g_t, g_p = grads\n",
    "        aug_grad = jnp.concatenate([jnp.array([g_t]), g_p])\n",
    "        opt_state = opt_update(step, aug_grad, opt_state)\n",
    "        return value, opt_state\n",
    "\n",
    "    aug_params = jnp.concatenate([jnp.array([t1]), init_param])\n",
    "    opt_state = opt_init(aug_params)\n",
    "\n",
    "    # optimize\n",
    "    for step in range(num_step):\n",
    "        value, opt_state = step_fun(step, opt_state, U_F)\n",
    "        loss_list.append(value)\n",
    "        print('step {0} : loss is {1}'.format(\n",
    "            step, value), end=\"\\r\", flush=True)\n",
    "\n",
    "    print('final loss = ', value, flush=True)\n",
    "    return loss_list, unpack(get_params(opt_state))"
   ]
  },
  {
   "cell_type": "code",
   "execution_count": 85,
   "id": "convinced-surge",
   "metadata": {},
   "outputs": [
    {
     "name": "stdout",
     "output_type": "stream",
     "text": [
      "final loss =  0.035330561428701765017655\n"
     ]
    }
   ],
   "source": [
    "omega0 = 1.\n",
    "p0 = random.normal(key,shape=(N1*4+1,))\n",
    "t1 = 1.\n",
    "loss_list, p_final=GateOptimizeOmega(sx,omega0, t1, p0, num_step=1000, learning_rate=0.8)"
   ]
  },
  {
   "cell_type": "code",
   "execution_count": 89,
   "id": "governmental-alloy",
   "metadata": {},
   "outputs": [
    {
     "data": {
      "text/plain": [
       "[<matplotlib.lines.Line2D at 0x7fb56ad40e90>]"
      ]
     },
     "execution_count": 89,
     "metadata": {},
     "output_type": "execute_result"
    },
    {
     "data": {
      "image/png": "[encoded data removed]",
      "text/plain": [
       "<Figure size 432x288 with 1 Axes>"
      ]
     },
     "metadata": {
      "needs_background": "light"
     },
     "output_type": "display_data"
    }
   ],
   "source": [
    "tlist = jnp.linspace(0,p_final[0],100)\n",
    "Alist = vmap(A,(None,0,None),0)(omega0,tlist,p_final[1])\n",
    "plt.plot(tlist,Alist)"
   ]
  },
  {
   "cell_type": "code",
   "execution_count": 91,
   "id": "invisible-prairie",
   "metadata": {},
   "outputs": [
    {
     "data": {
      "text/plain": [
       "[<matplotlib.lines.Line2D at 0x7fb591dd8e10>]"
      ]
     },
     "execution_count": 91,
     "metadata": {},
     "output_type": "execute_result"
    },
    {
     "data": {
      "image/png": "[encoded data removed]",
      "text/plain": [
       "<Figure size 432x288 with 1 Axes>"
      ]
     },
     "metadata": {
      "needs_background": "light"
     },
     "output_type": "display_data"
    }
   ],
   "source": [
    "omegalist = jnp.linspace(omega0-0.05,omega0+0.05,30)\n",
    "losslist = lossvmap(p_final[0],p_final[1],omegalist,sx)\n",
    "\n",
    "plt.plot(omegalist,losslist)"
   ]
  },
  {
   "cell_type": "code",
   "execution_count": null,
   "id": "promotional-dividend",
   "metadata": {},
   "outputs": [],
   "source": []
  }
 ],
 "metadata": {
  "kernelspec": {
   "display_name": "Python 3",
   "language": "python",
   "name": "python3"
  },
  "language_info": {
   "codemirror_mode": {
    "name": "ipython",
    "version": 3
   },
   "file_extension": ".py",
   "mimetype": "text/x-python",
   "name": "python",
   "nbconvert_exporter": "python",
   "pygments_lexer": "ipython3",
   "version": "3.7.4"
  }
 },
 "nbformat": 4,
 "nbformat_minor": 5
}
