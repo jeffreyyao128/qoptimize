{
  "nbformat": 4,
  "nbformat_minor": 0,
  "metadata": {
    "kernelspec": {
      "display_name": "Python 3",
      "language": "python",
      "name": "python3"
    },
    "language_info": {
      "codemirror_mode": {
        "name": "ipython",
        "version": 3
      },
      "file_extension": ".py",
      "mimetype": "text/x-python",
      "name": "python",
      "nbconvert_exporter": "python",
      "pygments_lexer": "ipython3",
      "version": "3.6.8"
    },
    "colab": {
      "name": "main.ipynb",
      "provenance": [],
      "collapsed_sections": []
    },
    "accelerator": "GPU"
  },
  "cells": [
    {
      "cell_type": "code",
      "metadata": {
        "id": "V8-yYZglGODU",
        "outputId": "6a9ebd71-7435-4a97-db10-5f2fcf195af3",
        "colab": {
          "base_uri": "https://localhost:8080/"
        }
      },
      "source": [
        "from scipy.integrate import solve_ivp\n",
        "import jax\n",
        "from jax import jit,vmap,grad\n",
        "from jax import random\n",
        "import numpy as np\n",
        "import jax.numpy as jnp\n",
        "from jax import vjp\n",
        "\n",
        "! pip install qutip\n",
        "from qutip import *\n",
        "\n",
        "N = 4 # set number of qubits as a global parameter\n",
        "N1 = 10 #fourier series\n",
        "key = random.PRNGKey(42)"
      ],
      "execution_count": null,
      "outputs": [
        {
          "output_type": "stream",
          "text": [
            "Collecting qutip\n",
            "  Using cached https://files.pythonhosted.org/packages/71/94/c79bd57137320657c3acc8e7a08d3c66dcf9d697e594e945fbc905dfec42/qutip-4.5.2.tar.gz\n",
            "  Installing build dependencies ... \u001b[?25l\u001b[?25hdone\n",
            "  Getting requirements to build wheel ... \u001b[?25l\u001b[?25hdone\n",
            "    Preparing wheel metadata ... \u001b[?25l\u001b[?25hdone\n",
            "Requirement already satisfied: cython>=0.21 in /usr/local/lib/python3.6/dist-packages (from qutip) (0.29.21)\n",
            "Requirement already satisfied: scipy>=1.0 in /usr/local/lib/python3.6/dist-packages (from qutip) (1.4.1)\n",
            "Requirement already satisfied: numpy>=1.12 in /usr/local/lib/python3.6/dist-packages (from qutip) (1.18.5)\n",
            "Building wheels for collected packages: qutip\n",
            "  Building wheel for qutip (PEP 517) ... \u001b[?25l\u001b[?25hdone\n",
            "  Created wheel for qutip: filename=qutip-4.5.2-cp36-cp36m-linux_x86_64.whl size=12467997 sha256=7d3cd0fc3b0078573fa62042c1ccda38a0e3bea123d0e9c0777946fdb2786e22\n",
            "  Stored in directory: /root/.cache/pip/wheels/ae/90/e9/f26fdecfb6c0e9d9d6f5fa564d16d26ff2bdfd8ad6e7a8a28a\n",
            "Successfully built qutip\n",
            "Installing collected packages: qutip\n",
            "Successfully installed qutip-4.5.2\n"
          ],
          "name": "stdout"
        }
      ]
    },
    {
      "cell_type": "code",
      "metadata": {
        "id": "1cKxLXnVGODZ"
      },
      "source": [
        "def generate_bach(U,N=100,*args):\n",
        "    '''\n",
        "    To generate a bach of data point\n",
        "    '''\n",
        "    pass"
      ],
      "execution_count": null,
      "outputs": []
    },
    {
      "cell_type": "markdown",
      "metadata": {
        "id": "TPSCTqnOGODc"
      },
      "source": [
        "To perceed neural network, an ODE solver is needed. In our case is `scipy.integrate.solve_ivp`"
      ]
    },
    {
      "cell_type": "code",
      "metadata": {
        "id": "gyjrFww7GODc"
      },
      "source": [
        "def forward(t1,psi0,flat_p):\n",
        "    '''\n",
        "    solver for Schrodinger equation with initial condition of psi0 and Hamiltonian in the interval of [0,t1]\n",
        "    use mathod of scipy\n",
        "    '''\n",
        "    Hz = lambda t,x: H(t,x,flat_p,t1)\n",
        "    sol = solve_ivp(Hz,[0,t1],psi0,t_eval=[0,t1])\n",
        "    return sol.t,sol.y"
      ],
      "execution_count": null,
      "outputs": []
    },
    {
      "cell_type": "code",
      "metadata": {
        "id": "J649wAPpGODf"
      },
      "source": [
        "def initial():\n",
        "    '''\n",
        "    Return randomized parameters\n",
        "    '''\n",
        "    return np.random.normal(size=(N1*(N+1)+1,))"
      ],
      "execution_count": null,
      "outputs": []
    },
    {
      "cell_type": "code",
      "metadata": {
        "id": "QVz6THRdGODj"
      },
      "source": [
        "def n(i,x):\n",
        "    '''\n",
        "    number operator for n_i (x)\n",
        "    '''\n",
        "    return (x&2**i)/2**i\n",
        "\n",
        "def unpackp(x):\n",
        "  return jnp.array(x[:N1]) , jnp.array([x[(i+1)*N1:(i+2)*N1] for i in range(N)]), x[-1]\n",
        "\n",
        "def flatten(x):\n",
        "  return 0 # TODO"
      ],
      "execution_count": null,
      "outputs": []
    },
    {
      "cell_type": "markdown",
      "metadata": {
        "id": "lPT96vU6ZZ4r"
      },
      "source": [
        "Our Hamiltonian is $$\\begin{aligned}\n",
        "\\frac{H}{\\hbar}=& \\frac{\\Omega(t)}{2} \\sum_{i=1}^{N} \\sigma_{x}^{(i)}-\\sum_{i=1}^{N} \\Delta_{i}(t) n_{i} \\\\\n",
        "&+\\sum_{i<j} \\frac{V}{|i-j|^{6}} n_{i} n_{j}\n",
        "\\end{aligned}$$"
      ]
    },
    {
      "cell_type": "code",
      "metadata": {
        "id": "zBCGwRkgGODl"
      },
      "source": [
        "def H(t,psi,flat_p,t1):\n",
        "    '''\n",
        "    Using xor to implement off diagonal element\n",
        "    '''\n",
        "    D, = jnp.shape(psi)\n",
        "    res = jnp.zeros(D,dtype=jnp.complex64)\n",
        "\n",
        "    w = 2*jnp.pi/t1\n",
        "\n",
        "    u_omega, u_d, V = unpackp(flat_p)\n",
        "    omega = jnp.sum(jnp.array([u_omega[i]*jnp.sin(w*(i+1)*t) for i in range(N1)]))\n",
        "    delta = [jnp.sum(jnp.array([u_d[j,i]*jnp.sin(w*(i+1)*t) for i in range(N1)])) for j in range(N)]\n",
        "\n",
        "    for x in range(D):\n",
        "        Ci = psi[x]\n",
        "        diag = - jnp.sum(jnp.array([ delta[i]*n(i,x) for i in range(N)]))\\\n",
        "        + jnp.sum(jnp.array([[V*n(i,x)*n(j,x)/jnp.abs(i-j)**6 if i<j else 0 for i in range(N)] for j in range(N)])) #diagonal part of hamiltonian\n",
        "        res = jax.ops.index_add(res, (x,), diag*Ci)\n",
        "        cast = jnp.array([x^2**i for i in range(N)]) # ^ is for xor, to calculate the flip operation\n",
        "        res = jax.ops.index_add(res, cast, omega*Ci/2)\n",
        "    return res"
      ],
      "execution_count": null,
      "outputs": []
    },
    {
      "cell_type": "code",
      "metadata": {
        "id": "Voa8tv0HGODo"
      },
      "source": [
        "@jit\n",
        "def loss(psi,p,t1,A,psi0):\n",
        "    '''\n",
        "    define the loss function\n",
        "    '''\n",
        "    omega = 2*jnp.pi/t1\n",
        "    l1 = 1 - jnp.abs(jnp.dot(jnp.conjugate(psi),psi0))**2 # Overlap\n",
        "    \n",
        "    l2 = 0.5*jnp.sum(jnp.array([ (i*omega*p[i])**2 for i in range(N1)]))\n",
        "    l3 = 0.5*jnp.sum(jnp.array([ (i*omega*p[i+N1])**2 for i in range(N1)]))\n",
        "    l4 = 0.5*p[-1]**2\n",
        "    \n",
        "    return A[0]*l1+A[1]*l2+A[2]*l3+A[3]*l4"
      ],
      "execution_count": null,
      "outputs": []
    },
    {
      "cell_type": "code",
      "metadata": {
        "id": "ak3mbk0YGODq"
      },
      "source": [
        "@jit\n",
        "def grad_all(psi1,flat_p,t1,A,psi0):\n",
        "    D, = jnp.shape(psi1)\n",
        "    \n",
        "    a0 = grad(loss, argnums=0)(psi1,flat_p,t1,A,psi0)\n",
        "    pLt1 = jnp.array(jnp.dot(a0,H(t1,psi1,flat_p,t1)))\n",
        "    print(pLt1)\n",
        "    \n",
        "    aug_state = jnp.concatenate([psi1, a0, -pLt1, jnp.zeros((2*N1+1,))])\n",
        "\n",
        "    def unpack(x):\n",
        "              # z , vjp_z   , vjp_t , vjp_args\n",
        "      return x[:D], x[D:2*D], x[2*D], x[2*D+1:]\n",
        "    def wrap_vjp(augment_state,t,parameters):\n",
        "      Hz = lambda z : H(t,z,parameters,t1)\n",
        "      Ht = lambda t0 : H(t0,augment_state[0],parameters,t1)\n",
        "      Hp = lambda p : H(t,auement_state[0],p,t1)\n",
        "\n",
        "      _, vjp_funz = vjp(Hz, augment_state[0])\n",
        "      _, vjp_funt = vjp(Ht, t)\n",
        "      _, vjp_funp = vjp(Hp, flat_p)\n",
        "\n",
        "      return [- vjp_funz(augment_state[1]),- vjp_funp(augment_state[1]),- vjp_funt(augment_state[1])]\n",
        "    \n",
        "    def aug_dynamics(augment_state,t,parameters):\n",
        "      unpacked_aug_state = unpack(augment_state)\n",
        "      vjps = wrap_vjp(unpacked_aug_state,t,parameters)\n",
        "      return jnp.concatenate([H(t,augment_state[0],parameters,t1), vjps[0], vjps[1], vjps[2]])\n",
        "\n",
        "    aug_state0 = solve_ivp(aug_dynamics,[t1,0],aug_state)\n",
        "    return aug_state0"
      ],
      "execution_count": null,
      "outputs": []
    },
    {
      "cell_type": "markdown",
      "metadata": {
        "id": "yJSUd71THAQq"
      },
      "source": [
        "Our Hamiltonian is $$\\begin{aligned}\n",
        "\\frac{H}{\\hbar}=& \\frac{\\Omega(t)}{2} \\sum_{i=1}^{N} \\sigma_{x}^{(i)}-\\sum_{i=1}^{N} \\Delta_{i}(t) n_{i} \\\\\n",
        "&+\\sum_{i<j} \\frac{V}{|i-j|^{6}} n_{i} n_{j}\n",
        "\\end{aligned}$$"
      ]
    },
    {
      "cell_type": "code",
      "metadata": {
        "id": "tSyOBEQjtKyS"
      },
      "source": [
        "def check_with_qutip(psi0,flat_p,t1):\n",
        "      q_psi = Qobj(psi0,dims=[[2 for _ in range(N)], [1 for _ in range(N)]])\n",
        "      t = np.linspace(0,t1,100)\n",
        "      w = 2*jnp.pi/t1\n",
        "\n",
        "      u_omega, u_d, V = unpackp(flat_p)\n",
        "      \n",
        "      omega = lambda t,args : jnp.sum(jnp.array([u_omega[i]*jnp.sin(w*(i+1)*t) for i in range(N1)]))\n",
        "      delta = [lambda t,args : - jnp.sum(jnp.array([u_d[j,i]*jnp.sin(w*(i+1)*t) for i in range(N1)])) for j in range(N)]\n",
        "      h = []\n",
        "\n",
        "      si = qeye(2)\n",
        "      sx = sigmax()\n",
        "      sy = sigmay()\n",
        "      sz = sigmaz()\n",
        "      ni = num(2)\n",
        "      # time independent part\n",
        "      h_list = []\n",
        "      for i in range(N):\n",
        "        for j in range(N):\n",
        "          if j<= i: continue\n",
        "          param = V/np.abs(i-j)**6\n",
        "          op_list=[si for _ in range(N)]\n",
        "          op_list[i] = ni\n",
        "          op_list[j] = ni\n",
        "          h_list.append(param*tensor(op_list))\n",
        "      H0 = sum(h_list)\n",
        "      h.append(H0)\n",
        "\n",
        "      sx_list = []\n",
        "\n",
        "      for n in range(N):\n",
        "          op_list = []\n",
        "          for m in range(N):\n",
        "              op_list.append(si)\n",
        "\n",
        "          op_list[n] = sx\n",
        "          sx_list.append(tensor(op_list))\n",
        "\n",
        "      # construct the hamiltonian\n",
        "      H1 = sum([- 0.5 * sx_list[n] for n in range(N)])\n",
        "      h.append([H1,omega])\n",
        "      \n",
        "      for i in range(N):\n",
        "        n_list = [si for _ in range(N)]\n",
        "        n_list[i] = ni\n",
        "        H2= tensor(n_list)\n",
        "        h.append([H2,delta[i]])\n",
        "      \n",
        "      output = mesolve(h, q_psi, t)\n",
        "\n",
        "      return output\n"
      ],
      "execution_count": null,
      "outputs": []
    },
    {
      "cell_type": "code",
      "metadata": {
        "id": "Cpfn-q-UGODt"
      },
      "source": [
        "if __name__=='__main__':\n",
        "  psi0 = np.random.normal(size=(16,)) + 1j*np.random.normal(size=(16,))\n",
        "  flat_params = initial()\n",
        "  # res = forward(2,psi0,flat_params)\n",
        "  check_with_qutip(psi0,flat_params, 2)"
      ],
      "execution_count": null,
      "outputs": []
    },
    {
      "cell_type": "code",
      "metadata": {
        "id": "MbZvwRcWf571"
      },
      "source": [
        "z1 = jnp.array(res[1][:,1])\n",
        "A = np.random.uniform(size=(4,))\n",
        "grad_all(z1,flat_params,2,A,psi0)"
      ],
      "execution_count": null,
      "outputs": []
    },
    {
      "cell_type": "code",
      "metadata": {
        "id": "bNK5s5EiiQqZ"
      },
      "source": [
        "psi0 = np.random.normal(size=(16,)) + 1j*np.random.normal(size=(16,))\n",
        "qipsi = Qobj(psi0,dims=[[2,2,2,2], [1,1,1,1]])\n",
        "H1 = (tensor(sigmax(), identity(2), identity(2),identity(2)) +\n",
        "    tensor(identity(2), sigmax(), identity(2),identity(2)) +\n",
        "     tensor(identity(2), identity(2), identity(2),sigmax()) +\n",
        "      tensor(identity(2), identity(2), identity(2),sigmax()))\n",
        "print(H1)\n",
        "print(qipsi)\n",
        "print(H1*qipsi)"
      ],
      "execution_count": null,
      "outputs": []
    },
    {
      "cell_type": "code",
      "metadata": {
        "id": "LFq0fZD5J89n"
      },
      "source": [
        "for i in range(N):\n",
        "  for j in range(N):\n",
        "    if j<=i : continue\n",
        "    print(\"({0},{1})\".format(i,j))"
      ],
      "execution_count": null,
      "outputs": []
    },
    {
      "cell_type": "code",
      "metadata": {
        "id": "daQ3VUJJNaCC"
      },
      "source": [
        ""
      ],
      "execution_count": null,
      "outputs": []
    }
  ]
}